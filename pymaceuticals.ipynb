{
 "cells": [
  {
   "cell_type": "code",
   "execution_count": 1,
   "metadata": {},
   "outputs": [
    {
     "data": {
      "text/html": [
       "<div>\n",
       "<style scoped>\n",
       "    .dataframe tbody tr th:only-of-type {\n",
       "        vertical-align: middle;\n",
       "    }\n",
       "\n",
       "    .dataframe tbody tr th {\n",
       "        vertical-align: top;\n",
       "    }\n",
       "\n",
       "    .dataframe thead th {\n",
       "        text-align: right;\n",
       "    }\n",
       "</style>\n",
       "<table border=\"1\" class=\"dataframe\">\n",
       "  <thead>\n",
       "    <tr style=\"text-align: right;\">\n",
       "      <th></th>\n",
       "      <th>Mouse ID</th>\n",
       "      <th>Drug</th>\n",
       "      <th>Timepoint</th>\n",
       "      <th>Tumor Volume (mm3)</th>\n",
       "      <th>Metastatic Sites</th>\n",
       "    </tr>\n",
       "  </thead>\n",
       "  <tbody>\n",
       "    <tr>\n",
       "      <td>0</td>\n",
       "      <td>f234</td>\n",
       "      <td>Stelasyn</td>\n",
       "      <td>0</td>\n",
       "      <td>45.000000</td>\n",
       "      <td>0</td>\n",
       "    </tr>\n",
       "    <tr>\n",
       "      <td>1</td>\n",
       "      <td>f234</td>\n",
       "      <td>Stelasyn</td>\n",
       "      <td>5</td>\n",
       "      <td>47.313491</td>\n",
       "      <td>0</td>\n",
       "    </tr>\n",
       "    <tr>\n",
       "      <td>2</td>\n",
       "      <td>f234</td>\n",
       "      <td>Stelasyn</td>\n",
       "      <td>10</td>\n",
       "      <td>47.904324</td>\n",
       "      <td>0</td>\n",
       "    </tr>\n",
       "    <tr>\n",
       "      <td>3</td>\n",
       "      <td>f234</td>\n",
       "      <td>Stelasyn</td>\n",
       "      <td>15</td>\n",
       "      <td>48.735197</td>\n",
       "      <td>1</td>\n",
       "    </tr>\n",
       "    <tr>\n",
       "      <td>4</td>\n",
       "      <td>f234</td>\n",
       "      <td>Stelasyn</td>\n",
       "      <td>20</td>\n",
       "      <td>51.112713</td>\n",
       "      <td>2</td>\n",
       "    </tr>\n",
       "  </tbody>\n",
       "</table>\n",
       "</div>"
      ],
      "text/plain": [
       "  Mouse ID      Drug  Timepoint  Tumor Volume (mm3)  Metastatic Sites\n",
       "0     f234  Stelasyn          0           45.000000                 0\n",
       "1     f234  Stelasyn          5           47.313491                 0\n",
       "2     f234  Stelasyn         10           47.904324                 0\n",
       "3     f234  Stelasyn         15           48.735197                 1\n",
       "4     f234  Stelasyn         20           51.112713                 2"
      ]
     },
     "execution_count": 1,
     "metadata": {},
     "output_type": "execute_result"
    }
   ],
   "source": [
    "# Dependencies and Setup\n",
    "%matplotlib inline\n",
    "import matplotlib.pyplot as plt\n",
    "import pandas as pd\n",
    "import numpy as np\n",
    "\n",
    "# Hide warning messages in notebook\n",
    "import warnings\n",
    "warnings.filterwarnings('ignore')\n",
    "\n",
    "# File to Load (Remember to Change These)\n",
    "mousepath = \"Resources/mouse_drug_data.csv\"\n",
    "clinicalpath = \"Resources/clinicaltrial_data.csv\"\n",
    "\n",
    "# Read the Mouse and Drug Data and the Clinical Trial Data\n",
    "\n",
    "mouse_df = pd.DataFrame(pd.read_csv(mousepath))\n",
    "clinical_df = pd.DataFrame(pd.read_csv(clinicalpath))\n",
    "\n",
    "# Combine the data into a single dataset\n",
    "\n",
    "merged = pd.merge(mouse_df,clinical_df)\n",
    "merged.head(5)\n",
    "# Display the data table for preview\n",
    "\n"
   ]
  },
  {
   "cell_type": "markdown",
   "metadata": {},
   "source": [
    "## Tumor Response to Treatment"
   ]
  },
  {
   "cell_type": "code",
   "execution_count": 2,
   "metadata": {
    "scrolled": true
   },
   "outputs": [
    {
     "data": {
      "text/html": [
       "<div>\n",
       "<style scoped>\n",
       "    .dataframe tbody tr th:only-of-type {\n",
       "        vertical-align: middle;\n",
       "    }\n",
       "\n",
       "    .dataframe tbody tr th {\n",
       "        vertical-align: top;\n",
       "    }\n",
       "\n",
       "    .dataframe thead th {\n",
       "        text-align: right;\n",
       "    }\n",
       "</style>\n",
       "<table border=\"1\" class=\"dataframe\">\n",
       "  <thead>\n",
       "    <tr style=\"text-align: right;\">\n",
       "      <th></th>\n",
       "      <th>Drug</th>\n",
       "      <th>Timepoint</th>\n",
       "      <th>Tumor Volume (mm3)</th>\n",
       "    </tr>\n",
       "  </thead>\n",
       "  <tbody>\n",
       "    <tr>\n",
       "      <td>0</td>\n",
       "      <td>Capomulin</td>\n",
       "      <td>0</td>\n",
       "      <td>45.000000</td>\n",
       "    </tr>\n",
       "    <tr>\n",
       "      <td>1</td>\n",
       "      <td>Capomulin</td>\n",
       "      <td>5</td>\n",
       "      <td>44.266086</td>\n",
       "    </tr>\n",
       "    <tr>\n",
       "      <td>2</td>\n",
       "      <td>Capomulin</td>\n",
       "      <td>10</td>\n",
       "      <td>43.084291</td>\n",
       "    </tr>\n",
       "    <tr>\n",
       "      <td>3</td>\n",
       "      <td>Capomulin</td>\n",
       "      <td>15</td>\n",
       "      <td>42.064317</td>\n",
       "    </tr>\n",
       "    <tr>\n",
       "      <td>4</td>\n",
       "      <td>Capomulin</td>\n",
       "      <td>20</td>\n",
       "      <td>40.716325</td>\n",
       "    </tr>\n",
       "    <tr>\n",
       "      <td>...</td>\n",
       "      <td>...</td>\n",
       "      <td>...</td>\n",
       "      <td>...</td>\n",
       "    </tr>\n",
       "    <tr>\n",
       "      <td>95</td>\n",
       "      <td>Zoniferol</td>\n",
       "      <td>25</td>\n",
       "      <td>55.432935</td>\n",
       "    </tr>\n",
       "    <tr>\n",
       "      <td>96</td>\n",
       "      <td>Zoniferol</td>\n",
       "      <td>30</td>\n",
       "      <td>57.713531</td>\n",
       "    </tr>\n",
       "    <tr>\n",
       "      <td>97</td>\n",
       "      <td>Zoniferol</td>\n",
       "      <td>35</td>\n",
       "      <td>60.089372</td>\n",
       "    </tr>\n",
       "    <tr>\n",
       "      <td>98</td>\n",
       "      <td>Zoniferol</td>\n",
       "      <td>40</td>\n",
       "      <td>62.916692</td>\n",
       "    </tr>\n",
       "    <tr>\n",
       "      <td>99</td>\n",
       "      <td>Zoniferol</td>\n",
       "      <td>45</td>\n",
       "      <td>65.960888</td>\n",
       "    </tr>\n",
       "  </tbody>\n",
       "</table>\n",
       "<p>100 rows × 3 columns</p>\n",
       "</div>"
      ],
      "text/plain": [
       "         Drug  Timepoint  Tumor Volume (mm3)\n",
       "0   Capomulin          0           45.000000\n",
       "1   Capomulin          5           44.266086\n",
       "2   Capomulin         10           43.084291\n",
       "3   Capomulin         15           42.064317\n",
       "4   Capomulin         20           40.716325\n",
       "..        ...        ...                 ...\n",
       "95  Zoniferol         25           55.432935\n",
       "96  Zoniferol         30           57.713531\n",
       "97  Zoniferol         35           60.089372\n",
       "98  Zoniferol         40           62.916692\n",
       "99  Zoniferol         45           65.960888\n",
       "\n",
       "[100 rows x 3 columns]"
      ]
     },
     "execution_count": 2,
     "metadata": {},
     "output_type": "execute_result"
    }
   ],
   "source": [
    "# Store the Mean Tumor Volume Data Grouped by Drug and Timepoint \n",
    "# Convert to DataFrame\n",
    "# Preview DataFrame\n",
    "mean_tum = merged.groupby(['Drug','Timepoint']).mean().reset_index()\n",
    "mean_tum = mean_tum.iloc[:,:3]\n",
    "mean_tum"
   ]
  },
  {
   "cell_type": "code",
   "execution_count": 3,
   "metadata": {},
   "outputs": [
    {
     "data": {
      "text/html": [
       "<div>\n",
       "<style scoped>\n",
       "    .dataframe tbody tr th:only-of-type {\n",
       "        vertical-align: middle;\n",
       "    }\n",
       "\n",
       "    .dataframe tbody tr th {\n",
       "        vertical-align: top;\n",
       "    }\n",
       "\n",
       "    .dataframe thead th {\n",
       "        text-align: right;\n",
       "    }\n",
       "</style>\n",
       "<table border=\"1\" class=\"dataframe\">\n",
       "  <thead>\n",
       "    <tr style=\"text-align: right;\">\n",
       "      <th></th>\n",
       "      <th>Drug</th>\n",
       "      <th>Timepoint</th>\n",
       "      <th>Tumor Volume (mm3)</th>\n",
       "    </tr>\n",
       "  </thead>\n",
       "  <tbody>\n",
       "    <tr>\n",
       "      <td>0</td>\n",
       "      <td>Capomulin</td>\n",
       "      <td>0</td>\n",
       "      <td>0.000000</td>\n",
       "    </tr>\n",
       "    <tr>\n",
       "      <td>1</td>\n",
       "      <td>Capomulin</td>\n",
       "      <td>5</td>\n",
       "      <td>2.242964</td>\n",
       "    </tr>\n",
       "    <tr>\n",
       "      <td>2</td>\n",
       "      <td>Capomulin</td>\n",
       "      <td>10</td>\n",
       "      <td>3.513422</td>\n",
       "    </tr>\n",
       "    <tr>\n",
       "      <td>3</td>\n",
       "      <td>Capomulin</td>\n",
       "      <td>15</td>\n",
       "      <td>4.108369</td>\n",
       "    </tr>\n",
       "    <tr>\n",
       "      <td>4</td>\n",
       "      <td>Capomulin</td>\n",
       "      <td>20</td>\n",
       "      <td>4.362915</td>\n",
       "    </tr>\n",
       "    <tr>\n",
       "      <td>...</td>\n",
       "      <td>...</td>\n",
       "      <td>...</td>\n",
       "      <td>...</td>\n",
       "    </tr>\n",
       "    <tr>\n",
       "      <td>95</td>\n",
       "      <td>Zoniferol</td>\n",
       "      <td>25</td>\n",
       "      <td>2.410052</td>\n",
       "    </tr>\n",
       "    <tr>\n",
       "      <td>96</td>\n",
       "      <td>Zoniferol</td>\n",
       "      <td>30</td>\n",
       "      <td>3.098552</td>\n",
       "    </tr>\n",
       "    <tr>\n",
       "      <td>97</td>\n",
       "      <td>Zoniferol</td>\n",
       "      <td>35</td>\n",
       "      <td>3.297993</td>\n",
       "    </tr>\n",
       "    <tr>\n",
       "      <td>98</td>\n",
       "      <td>Zoniferol</td>\n",
       "      <td>40</td>\n",
       "      <td>3.736102</td>\n",
       "    </tr>\n",
       "    <tr>\n",
       "      <td>99</td>\n",
       "      <td>Zoniferol</td>\n",
       "      <td>45</td>\n",
       "      <td>3.755037</td>\n",
       "    </tr>\n",
       "  </tbody>\n",
       "</table>\n",
       "<p>100 rows × 3 columns</p>\n",
       "</div>"
      ],
      "text/plain": [
       "         Drug  Timepoint  Tumor Volume (mm3)\n",
       "0   Capomulin          0            0.000000\n",
       "1   Capomulin          5            2.242964\n",
       "2   Capomulin         10            3.513422\n",
       "3   Capomulin         15            4.108369\n",
       "4   Capomulin         20            4.362915\n",
       "..        ...        ...                 ...\n",
       "95  Zoniferol         25            2.410052\n",
       "96  Zoniferol         30            3.098552\n",
       "97  Zoniferol         35            3.297993\n",
       "98  Zoniferol         40            3.736102\n",
       "99  Zoniferol         45            3.755037\n",
       "\n",
       "[100 rows x 3 columns]"
      ]
     },
     "execution_count": 3,
     "metadata": {},
     "output_type": "execute_result"
    }
   ],
   "source": [
    "# Store the Standard Error of Tumor Volumes Grouped by Drug and Timepoint\n",
    "# Convert to DataFrame\n",
    "# Preview DataFrame\n",
    "\n",
    "std_tum = merged.groupby(['Drug','Timepoint']).std().reset_index()\n",
    "std_tum = std_tum.iloc[:,0:3]\n",
    "std_tum\n"
   ]
  },
  {
   "cell_type": "code",
   "execution_count": 4,
   "metadata": {
    "scrolled": true
   },
   "outputs": [
    {
     "name": "stdout",
     "output_type": "stream",
     "text": [
      "Drug       Capomulin   Ceftamin  Infubinol   Ketapril\n",
      "Timepoint                                            \n",
      "0          45.000000  45.000000  45.000000  45.000000\n",
      "5          44.266086  46.503051  47.062001  47.389175\n",
      "10         43.084291  48.285125  49.403909  49.582269\n",
      "15         42.064317  50.094055  51.296397  52.399974\n",
      "20         40.716325  52.157049  53.197691  54.920935\n",
      "25         39.939528  54.287674  55.715252  57.678982\n",
      "30         38.769339  56.769517  58.299397  60.994507\n",
      "35         37.816839  58.827548  60.742461  63.371686\n",
      "40         36.958001  61.467895  63.162824  66.068580\n",
      "45         36.236114  64.132421  65.755562  70.662958\n",
      "Drug       Capomulin  Ceftamin  Infubinol  Ketapril\n",
      "Timepoint                                          \n",
      "0           0.000000  0.000000   0.000000  0.000000\n",
      "5           2.242964  0.753856   1.175512  1.270025\n",
      "10          3.513422  1.056070   1.293872  1.676454\n",
      "15          4.108369  1.447385   1.639210  2.529329\n",
      "20          4.362915  1.525155   2.129674  3.166670\n",
      "25          4.135268  1.864031   2.334787  3.292768\n",
      "30          4.383004  1.962481   2.601931  3.963139\n",
      "35          4.935447  2.590153   3.409213  4.650315\n",
      "40          5.607278  2.650983   3.336898  4.486653\n",
      "45          5.608969  3.253497   3.433282  4.819674\n"
     ]
    }
   ],
   "source": [
    "# Minor Data Munging to Re-Format the Data Frames\n",
    "mean =  pd.pivot_table(mean_tum, values='Tumor Volume (mm3)', index=['Timepoint'],columns=['Drug'], aggfunc=np.mean)\n",
    "std = pd.pivot_table(std_tum, values='Tumor Volume (mm3)', index=['Timepoint'],columns=['Drug'], aggfunc=np.mean)\n",
    "# Preview that Reformatting worked\n",
    "print(mean.iloc[:,0:4])\n",
    "print(std.iloc[:,0:4])\n"
   ]
  },
  {
   "cell_type": "code",
   "execution_count": 5,
   "metadata": {},
   "outputs": [
    {
     "data": {
      "text/plain": [
       "Int64Index([0, 5, 10, 15, 20, 25, 30, 35, 40, 45], dtype='int64', name='Timepoint')"
      ]
     },
     "execution_count": 5,
     "metadata": {},
     "output_type": "execute_result"
    }
   ],
   "source": [
    "mean.index\n"
   ]
  },
  {
   "cell_type": "code",
   "execution_count": 6,
   "metadata": {},
   "outputs": [
    {
     "data": {
      "image/png": "[encoded data removed]",
      "text/plain": [
       "<Figure size 432x288 with 1 Axes>"
      ]
     },
     "metadata": {
      "needs_background": "light"
     },
     "output_type": "display_data"
    }
   ],
   "source": [
    "# Generate the Plot (with Error Bars)\n",
    "\n",
    "fig, ax = plt.subplots()\n",
    "ax.errorbar(mean.index, mean.iloc[:,0],std.iloc[:,0],label='Capomulin')\n",
    "ax.errorbar(mean.index, mean.iloc[:,1],std.iloc[:,1],label='Ceftamin')\n",
    "ax.errorbar(mean.index, mean.iloc[:,2],std.iloc[:,2],label='Infubinol')\n",
    "ax.errorbar(mean.index, mean.iloc[:,3],std.iloc[:,3],label='Ketapril')\n",
    "ax.axis('equal')\n",
    "leg = ax.legend()\n",
    "\n",
    "# Add title and axis names\n",
    "plt.title('Drugs')\n",
    "plt.xlabel('Time point')\n",
    "plt.ylabel('Avg. Tumor Volume (mm3)')\n",
    "\n",
    "\n",
    "plt.show()\n",
    "\n",
    "\n",
    "# Save the Figure\n",
    "\n"
   ]
  },
  {
   "cell_type": "code",
   "execution_count": 7,
   "metadata": {},
   "outputs": [],
   "source": [
    "# Show the Figure\n",
    "plt.show()"
   ]
  },
  {
   "cell_type": "markdown",
   "metadata": {},
   "source": [
    "## Metastatic Response to Treatment"
   ]
  },
  {
   "cell_type": "code",
   "execution_count": 8,
   "metadata": {},
   "outputs": [
    {
     "data": {
      "text/html": [
       "<div>\n",
       "<style scoped>\n",
       "    .dataframe tbody tr th:only-of-type {\n",
       "        vertical-align: middle;\n",
       "    }\n",
       "\n",
       "    .dataframe tbody tr th {\n",
       "        vertical-align: top;\n",
       "    }\n",
       "\n",
       "    .dataframe thead th {\n",
       "        text-align: right;\n",
       "    }\n",
       "</style>\n",
       "<table border=\"1\" class=\"dataframe\">\n",
       "  <thead>\n",
       "    <tr style=\"text-align: right;\">\n",
       "      <th></th>\n",
       "      <th>Drug</th>\n",
       "      <th>Timepoint</th>\n",
       "      <th>Metastatic Sites</th>\n",
       "    </tr>\n",
       "  </thead>\n",
       "  <tbody>\n",
       "    <tr>\n",
       "      <td>0</td>\n",
       "      <td>Capomulin</td>\n",
       "      <td>0</td>\n",
       "      <td>0.000000</td>\n",
       "    </tr>\n",
       "    <tr>\n",
       "      <td>1</td>\n",
       "      <td>Capomulin</td>\n",
       "      <td>5</td>\n",
       "      <td>0.160000</td>\n",
       "    </tr>\n",
       "    <tr>\n",
       "      <td>2</td>\n",
       "      <td>Capomulin</td>\n",
       "      <td>10</td>\n",
       "      <td>0.320000</td>\n",
       "    </tr>\n",
       "    <tr>\n",
       "      <td>3</td>\n",
       "      <td>Capomulin</td>\n",
       "      <td>15</td>\n",
       "      <td>0.375000</td>\n",
       "    </tr>\n",
       "    <tr>\n",
       "      <td>4</td>\n",
       "      <td>Capomulin</td>\n",
       "      <td>20</td>\n",
       "      <td>0.652174</td>\n",
       "    </tr>\n",
       "    <tr>\n",
       "      <td>...</td>\n",
       "      <td>...</td>\n",
       "      <td>...</td>\n",
       "      <td>...</td>\n",
       "    </tr>\n",
       "    <tr>\n",
       "      <td>95</td>\n",
       "      <td>Zoniferol</td>\n",
       "      <td>25</td>\n",
       "      <td>1.687500</td>\n",
       "    </tr>\n",
       "    <tr>\n",
       "      <td>96</td>\n",
       "      <td>Zoniferol</td>\n",
       "      <td>30</td>\n",
       "      <td>1.933333</td>\n",
       "    </tr>\n",
       "    <tr>\n",
       "      <td>97</td>\n",
       "      <td>Zoniferol</td>\n",
       "      <td>35</td>\n",
       "      <td>2.285714</td>\n",
       "    </tr>\n",
       "    <tr>\n",
       "      <td>98</td>\n",
       "      <td>Zoniferol</td>\n",
       "      <td>40</td>\n",
       "      <td>2.785714</td>\n",
       "    </tr>\n",
       "    <tr>\n",
       "      <td>99</td>\n",
       "      <td>Zoniferol</td>\n",
       "      <td>45</td>\n",
       "      <td>3.071429</td>\n",
       "    </tr>\n",
       "  </tbody>\n",
       "</table>\n",
       "<p>100 rows × 3 columns</p>\n",
       "</div>"
      ],
      "text/plain": [
       "         Drug  Timepoint  Metastatic Sites\n",
       "0   Capomulin          0          0.000000\n",
       "1   Capomulin          5          0.160000\n",
       "2   Capomulin         10          0.320000\n",
       "3   Capomulin         15          0.375000\n",
       "4   Capomulin         20          0.652174\n",
       "..        ...        ...               ...\n",
       "95  Zoniferol         25          1.687500\n",
       "96  Zoniferol         30          1.933333\n",
       "97  Zoniferol         35          2.285714\n",
       "98  Zoniferol         40          2.785714\n",
       "99  Zoniferol         45          3.071429\n",
       "\n",
       "[100 rows x 3 columns]"
      ]
     },
     "execution_count": 8,
     "metadata": {},
     "output_type": "execute_result"
    }
   ],
   "source": [
    "# Store the Mean Met. Site Data Grouped by Drug and Timepoint \n",
    "\n",
    "# Convert to DataFrame\n",
    "\n",
    "# Preview DataFrame\n",
    "\n",
    "\n",
    "mean_met = merged.groupby(['Drug','Timepoint']).mean().reset_index()\n",
    "mean_met.columns\n",
    "\n",
    "mean_met = mean_met[['Drug', 'Timepoint', 'Metastatic Sites']]\n",
    "mean_met"
   ]
  },
  {
   "cell_type": "code",
   "execution_count": 9,
   "metadata": {},
   "outputs": [
    {
     "data": {
      "text/html": [
       "<div>\n",
       "<style scoped>\n",
       "    .dataframe tbody tr th:only-of-type {\n",
       "        vertical-align: middle;\n",
       "    }\n",
       "\n",
       "    .dataframe tbody tr th {\n",
       "        vertical-align: top;\n",
       "    }\n",
       "\n",
       "    .dataframe thead th {\n",
       "        text-align: right;\n",
       "    }\n",
       "</style>\n",
       "<table border=\"1\" class=\"dataframe\">\n",
       "  <thead>\n",
       "    <tr style=\"text-align: right;\">\n",
       "      <th></th>\n",
       "      <th>Drug</th>\n",
       "      <th>Timepoint</th>\n",
       "      <th>Metastatic Sites</th>\n",
       "    </tr>\n",
       "  </thead>\n",
       "  <tbody>\n",
       "    <tr>\n",
       "      <td>0</td>\n",
       "      <td>Capomulin</td>\n",
       "      <td>0</td>\n",
       "      <td>0.000000</td>\n",
       "    </tr>\n",
       "    <tr>\n",
       "      <td>1</td>\n",
       "      <td>Capomulin</td>\n",
       "      <td>5</td>\n",
       "      <td>0.374166</td>\n",
       "    </tr>\n",
       "    <tr>\n",
       "      <td>2</td>\n",
       "      <td>Capomulin</td>\n",
       "      <td>10</td>\n",
       "      <td>0.627163</td>\n",
       "    </tr>\n",
       "    <tr>\n",
       "      <td>3</td>\n",
       "      <td>Capomulin</td>\n",
       "      <td>15</td>\n",
       "      <td>0.646899</td>\n",
       "    </tr>\n",
       "    <tr>\n",
       "      <td>4</td>\n",
       "      <td>Capomulin</td>\n",
       "      <td>20</td>\n",
       "      <td>0.775107</td>\n",
       "    </tr>\n",
       "    <tr>\n",
       "      <td>...</td>\n",
       "      <td>...</td>\n",
       "      <td>...</td>\n",
       "      <td>...</td>\n",
       "    </tr>\n",
       "    <tr>\n",
       "      <td>95</td>\n",
       "      <td>Zoniferol</td>\n",
       "      <td>25</td>\n",
       "      <td>0.946485</td>\n",
       "    </tr>\n",
       "    <tr>\n",
       "      <td>96</td>\n",
       "      <td>Zoniferol</td>\n",
       "      <td>30</td>\n",
       "      <td>0.961150</td>\n",
       "    </tr>\n",
       "    <tr>\n",
       "      <td>97</td>\n",
       "      <td>Zoniferol</td>\n",
       "      <td>35</td>\n",
       "      <td>1.069045</td>\n",
       "    </tr>\n",
       "    <tr>\n",
       "      <td>98</td>\n",
       "      <td>Zoniferol</td>\n",
       "      <td>40</td>\n",
       "      <td>1.121714</td>\n",
       "    </tr>\n",
       "    <tr>\n",
       "      <td>99</td>\n",
       "      <td>Zoniferol</td>\n",
       "      <td>45</td>\n",
       "      <td>1.071612</td>\n",
       "    </tr>\n",
       "  </tbody>\n",
       "</table>\n",
       "<p>100 rows × 3 columns</p>\n",
       "</div>"
      ],
      "text/plain": [
       "         Drug  Timepoint  Metastatic Sites\n",
       "0   Capomulin          0          0.000000\n",
       "1   Capomulin          5          0.374166\n",
       "2   Capomulin         10          0.627163\n",
       "3   Capomulin         15          0.646899\n",
       "4   Capomulin         20          0.775107\n",
       "..        ...        ...               ...\n",
       "95  Zoniferol         25          0.946485\n",
       "96  Zoniferol         30          0.961150\n",
       "97  Zoniferol         35          1.069045\n",
       "98  Zoniferol         40          1.121714\n",
       "99  Zoniferol         45          1.071612\n",
       "\n",
       "[100 rows x 3 columns]"
      ]
     },
     "execution_count": 9,
     "metadata": {},
     "output_type": "execute_result"
    }
   ],
   "source": [
    "# Store the Standard Error associated with Met. Sites Grouped by Drug and Timepoint \n",
    "\n",
    "# Convert to DataFrame\n",
    "\n",
    "# Preview DataFrame\n",
    "\n",
    "std_met = merged.groupby(['Drug','Timepoint']).std().reset_index()\n",
    "std_met = std_met[['Drug', 'Timepoint', 'Metastatic Sites']]\n",
    "std_met\n",
    "\n"
   ]
  },
  {
   "cell_type": "code",
   "execution_count": 10,
   "metadata": {},
   "outputs": [
    {
     "name": "stdout",
     "output_type": "stream",
     "text": [
      "Drug       Capomulin   Ceftamin  Infubinol   Ketapril\n",
      "Timepoint                                            \n",
      "0          45.000000  45.000000  45.000000  45.000000\n",
      "5          44.266086  46.503051  47.062001  47.389175\n",
      "10         43.084291  48.285125  49.403909  49.582269\n",
      "15         42.064317  50.094055  51.296397  52.399974\n",
      "20         40.716325  52.157049  53.197691  54.920935\n",
      "25         39.939528  54.287674  55.715252  57.678982\n",
      "30         38.769339  56.769517  58.299397  60.994507\n",
      "35         37.816839  58.827548  60.742461  63.371686\n",
      "40         36.958001  61.467895  63.162824  66.068580\n",
      "45         36.236114  64.132421  65.755562  70.662958\n",
      "Drug       Capomulin  Ceftamin  Infubinol  Ketapril\n",
      "Timepoint                                          \n",
      "0           0.000000  0.000000   0.000000  0.000000\n",
      "5           2.242964  0.753856   1.175512  1.270025\n",
      "10          3.513422  1.056070   1.293872  1.676454\n",
      "15          4.108369  1.447385   1.639210  2.529329\n",
      "20          4.362915  1.525155   2.129674  3.166670\n",
      "25          4.135268  1.864031   2.334787  3.292768\n",
      "30          4.383004  1.962481   2.601931  3.963139\n",
      "35          4.935447  2.590153   3.409213  4.650315\n",
      "40          5.607278  2.650983   3.336898  4.486653\n",
      "45          5.608969  3.253497   3.433282  4.819674\n"
     ]
    }
   ],
   "source": [
    "# Minor Data Munging to Re-Format the Data Frames\n",
    "\n",
    "# Preview that Reformatting worked\n",
    "\n",
    "mean_met =  pd.pivot_table(mean_met, values='Metastatic Sites', index=['Timepoint'],columns=['Drug'], aggfunc=np.mean)\n",
    "std_met = pd.pivot_table(std_met, values='Metastatic Sites', index=['Timepoint'],columns=['Drug'], aggfunc=np.mean)\n",
    "\n",
    "print(mean.iloc[:,0:4])\n",
    "print(std.iloc[:,0:4])\n"
   ]
  },
  {
   "cell_type": "code",
   "execution_count": null,
   "metadata": {
    "scrolled": true
   },
   "outputs": [],
   "source": []
  },
  {
   "cell_type": "code",
   "execution_count": 11,
   "metadata": {},
   "outputs": [
    {
     "data": {
      "image/png": "[encoded data removed]",
      "text/plain": [
       "<Figure size 432x288 with 1 Axes>"
      ]
     },
     "metadata": {
      "needs_background": "light"
     },
     "output_type": "display_data"
    }
   ],
   "source": [
    "# Generate the Plot (with Error Bars)\n",
    "\n",
    "# Save the Figure\n",
    "\n",
    "# Show the Figure\n",
    "\n",
    "fig, ax = plt.subplots()\n",
    "ax.errorbar(mean_met.index, mean_met.iloc[:,0],std_met.iloc[:,0],label='Capomulin')\n",
    "ax.errorbar(mean_met.index, mean_met.iloc[:,1],std_met.iloc[:,1],label='Ceftamin')\n",
    "ax.errorbar(mean_met.index, mean_met.iloc[:,2],std_met.iloc[:,2],label='Infubinol')\n",
    "ax.errorbar(mean_met.index, mean_met.iloc[:,3],std_met.iloc[:,3],label='Ketapril')\n",
    "ax.axis('equal')\n",
    "leg = ax.legend()\n",
    "\n",
    "# Add title and axis names\n",
    "plt.title('Drugs')\n",
    "plt.xlabel('Time point')\n",
    "plt.ylabel('Metastatic Sites')\n",
    "\n",
    "\n",
    "plt.show()\n",
    "\n",
    "\n",
    "# Save the Figure\n"
   ]
  },
  {
   "cell_type": "code",
   "execution_count": null,
   "metadata": {},
   "outputs": [],
   "source": []
  },
  {
   "cell_type": "markdown",
   "metadata": {},
   "source": [
    "## Survival Rates"
   ]
  },
  {
   "cell_type": "code",
   "execution_count": 12,
   "metadata": {},
   "outputs": [
    {
     "data": {
      "text/plain": [
       "25"
      ]
     },
     "execution_count": 12,
     "metadata": {},
     "output_type": "execute_result"
    }
   ],
   "source": [
    "# Store the Count of Mice Grouped by Drug and Timepoint (W can pass any metric)\n",
    "# Convert to DataFrame\n",
    "# Preview DataFrame\n",
    "\n",
    "#mouse_count = merged.groupby(['Drug','Timepoint']).size().reset_index()\n",
    "mouse_count = merged.groupby(['Drug','Timepoint']).agg({\"Tumor Volume (mm3)\": np.mean, \"Mouse ID\": pd.Series.nunique})\n",
    "mouse_count['Mouse ID'].max()\n"
   ]
  },
  {
   "cell_type": "code",
   "execution_count": 13,
   "metadata": {},
   "outputs": [
    {
     "name": "stdout",
     "output_type": "stream",
     "text": [
      "Drug       Capomulin  Ceftamin  Infubinol  Ketapril\n",
      "Timepoint                                          \n",
      "0                 25        25         25        25\n",
      "5                 25        21         25        23\n",
      "10                25        20         21        22\n",
      "15                24        19         21        19\n",
      "20                23        18         20        19\n",
      "25                22        18         18        19\n",
      "30                22        16         17        18\n",
      "35                22        14         12        17\n",
      "40                21        14         10        15\n",
      "45                21        13          9        11\n"
     ]
    }
   ],
   "source": [
    "# Minor Data Munging to Re-Format the Data Frames\n",
    "\n",
    "# Preview the Data Frame\n",
    "\n",
    "mouse =  pd.pivot_table(mouse_count, values='Mouse ID', index=['Timepoint'],columns=['Drug'], aggfunc=np.sum)\n",
    "\n",
    "print(mouse.iloc[:,0:4])"
   ]
  },
  {
   "cell_type": "code",
   "execution_count": 14,
   "metadata": {
    "scrolled": true
   },
   "outputs": [
    {
     "data": {
      "text/plain": [
       "Int64Index([0, 5, 10, 15, 20, 25, 30, 35, 40, 45], dtype='int64', name='Timepoint')"
      ]
     },
     "execution_count": 14,
     "metadata": {},
     "output_type": "execute_result"
    }
   ],
   "source": [
    "mouse.index"
   ]
  },
  {
   "cell_type": "code",
   "execution_count": 15,
   "metadata": {},
   "outputs": [
    {
     "data": {
      "image/png": "[encoded data removed]",
      "text/plain": [
       "<Figure size 432x288 with 1 Axes>"
      ]
     },
     "metadata": {
      "needs_background": "light"
     },
     "output_type": "display_data"
    }
   ],
   "source": [
    "# Generate the Plot (Accounting for percentages)\n",
    "\n",
    "# Save the Figure\n",
    "\n",
    "# Show the Figure\n",
    "\n",
    "fig, ax = plt.subplots()\n",
    "ax.plot(mouse.index, mouse.iloc[:,0]/mouse_count['Mouse ID'].max()*100,label='Capomulin',marker='o',markersize=8)\n",
    "ax.plot(mouse.index, mouse.iloc[:,1]/mouse_count['Mouse ID'].max()*100,label='Ceftamin',marker='o',markersize=8)\n",
    "ax.plot(mouse.index, mouse.iloc[:,2]/mouse_count['Mouse ID'].max()*100,label='Infubinol',marker='o',markersize=8)\n",
    "ax.plot(mouse.index, mouse.iloc[:,3]/mouse_count['Mouse ID'].max()*100,label='Ketapril',marker='o',markersize=8)\n",
    "ax.axis('equal')\n",
    "leg = ax.legend()\n",
    "\n",
    "# Add title and axis names\n",
    "plt.title('Drugs')\n",
    "plt.xlabel('Time point')\n",
    "plt.ylabel('Mouse survival rate')\n",
    "plt.ylim(30, 100)\n",
    "plt.xlim(0,100)\n",
    "\n",
    "plt.show()\n",
    "\n"
   ]
  },
  {
   "cell_type": "code",
   "execution_count": null,
   "metadata": {},
   "outputs": [],
   "source": []
  },
  {
   "cell_type": "markdown",
   "metadata": {},
   "source": [
    "## Summary Bar Graph"
   ]
  },
  {
   "cell_type": "code",
   "execution_count": 62,
   "metadata": {},
   "outputs": [
    {
     "data": {
      "text/plain": [
       "-18.14023616326469"
      ]
     },
     "execution_count": 62,
     "metadata": {},
     "output_type": "execute_result"
    }
   ],
   "source": [
    "# Calculate the percent changes for each drug\n",
    "\n",
    "# Display the data to confirm\n",
    "mean.reset_index()\n",
    "\n",
    "# Store all Relevant Percent Changes into a Tuple\n",
    "\n",
    "change = (((mean.iloc[9,:])/(mean.iloc[1,:])-1)*100)\n",
    "change_tuple = tuple(zip(change.index,change))\n",
    "type(change_tuple)\n"
   ]
  },
  {
   "cell_type": "code",
   "execution_count": 93,
   "metadata": {},
   "outputs": [
    {
     "data": {
      "image/png": "[encoded data removed]",
      "text/plain": [
       "<Figure size 432x288 with 1 Axes>"
      ]
     },
     "metadata": {
      "needs_background": "light"
     },
     "output_type": "display_data"
    }
   ],
   "source": [
    "\n",
    "# Save the Figure\n",
    "x = np.arange(len(change))\n",
    "y = change\n",
    "plt.bar(x, y,color=('g','r','r','r','r','r','r','g','r','r'))\n",
    "label = change.index\n",
    "\n",
    "plt.rcParams['font.family'] = 'sans-serif'\n",
    "plt.rcParams['font.sans-serif'] = 'Helvetica'\n",
    "\n",
    "plt.title('tumor change over 45 days treatment')\n",
    "plt.xlabel('drug')\n",
    "plt.ylabel('change %')\n",
    "plt.xticks(x, label,rotation=90)\n",
    "plt.ylim(-40, 100)\n",
    "\n",
    "for x1,y1 in zip(x,y):\n",
    "\n",
    "    label = \"{:.2f}\".format(y1)\n",
    "\n",
    "    plt.annotate(label, # this is the text\n",
    "                 (x1,y1), # this is the point to label\n",
    "                 textcoords=\"offset points\", # how to position the text\n",
    "                 xytext=(0,10), # distance from text to points (x,y)\n",
    "                 ha='center') # horizontal alignment can be left, right or center\n",
    "\n",
    "\n",
    "    \n",
    "\n",
    "\n",
    "\n",
    "# Show the Figure\n",
    "plt.show()"
   ]
  },
  {
   "cell_type": "markdown",
   "metadata": {},
   "source": [
    "You must include a written description of three observable trends based on the data.\n",
    "\n",
    "1. Ramicane seesm to be the drug that reduces the most the tumor volume during a 45 days trial\n",
    "2. Capomulin shows the highest survival rate for mouses in trial\n",
    "3. Only two drugs pass the trial achieving a decrease in the total volume of the tumor, Capomulin and Ramicane\n",
    "\n",
    "p.s. Charting in Python is like managing big data in Excel... you can handle it but with severe limitations"
   ]
  },
  {
   "cell_type": "code",
   "execution_count": null,
   "metadata": {},
   "outputs": [],
   "source": []
  }
 ],
 "metadata": {
  "anaconda-cloud": {},
  "kernelspec": {
   "display_name": "Python 3",
   "language": "python",
   "name": "python3"
  },
  "language_info": {
   "codemirror_mode": {
    "name": "ipython",
    "version": 3
   },
   "file_extension": ".py",
   "mimetype": "text/x-python",
   "name": "python",
   "nbconvert_exporter": "python",
   "pygments_lexer": "ipython3",
   "version": "3.7.3"
  }
 },
 "nbformat": 4,
 "nbformat_minor": 1
}
